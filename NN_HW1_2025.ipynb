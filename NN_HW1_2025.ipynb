{
  "cells": [
    {
      "cell_type": "markdown",
      "id": "YfPhAJr3jOkh",
      "metadata": {
        "id": "YfPhAJr3jOkh"
      },
      "source": [
        "# HW 1"
      ]
    },
    {
      "cell_type": "code",
      "execution_count": 34,
      "id": "8cc148dc-d83d-4c32-bbb0-3ffd82ba4e98",
      "metadata": {
        "id": "8cc148dc-d83d-4c32-bbb0-3ffd82ba4e98"
      },
      "outputs": [],
      "source": [
        "import numpy as np\n",
        "import pandas as pd\n",
        "import matplotlib.pyplot as plt\n",
        "\n",
        "from sklearn.linear_model import LinearRegression\n",
        "from sklearn.model_selection import train_test_split\n",
        "from sklearn.metrics import r2_score, mean_absolute_error, mean_squared_error\n",
        "from sklearn.preprocessing import MinMaxScaler\n",
        "\n",
        "%matplotlib inline"
      ]
    },
    {
      "cell_type": "markdown",
      "id": "e3a06e1e-3bc0-4667-84f3-7e86698c3737",
      "metadata": {
        "id": "e3a06e1e-3bc0-4667-84f3-7e86698c3737"
      },
      "source": [
        "# Загружаем выборку Diamonds"
      ]
    },
    {
      "cell_type": "markdown",
      "id": "sI-cvLDCjsua",
      "metadata": {
        "id": "sI-cvLDCjsua"
      },
      "source": [
        "На данной выборке можно проверять работоспособность своего решения"
      ]
    },
    {
      "cell_type": "markdown",
      "id": "c731a143-3dc9-43e7-96f5-b1eff9093345",
      "metadata": {
        "id": "c731a143-3dc9-43e7-96f5-b1eff9093345"
      },
      "source": [
        "1. PRICE: price in US dollars (326-18,823)\n",
        "2. CARAT: weight of the diamond (0.2--5.01)\n",
        "3. CUT: quality of the cut (Fair, Good, Very Good, Premium, Ideal)\n",
        "4. COLOR: diamond colour, from J (worst) to D (best)\n",
        "5. CLARITY: a measurement of how clear the diamond is (I1 (worst), SI2, SI1, VS2, VS1, VVS2, VVS1, IF (best))\n",
        "6. X: length in mm (0--10.74)\n",
        "7. Y: width in mm (0--58.9)\n",
        "8. Z: depth in mm (0--31.8)\n",
        "9. DEPTH: total depth percentage = z / mean(x, y) = 2 * z / (x + y) (43--79)\n",
        "10. TABLE: width of top of diamond relative to widest point (43--95)"
      ]
    },
    {
      "cell_type": "code",
      "execution_count": 2,
      "id": "0f24cf86-653a-422b-9df1-8029fdccf153",
      "metadata": {
        "id": "0f24cf86-653a-422b-9df1-8029fdccf153"
      },
      "outputs": [],
      "source": [
        "diamonds_df = pd.read_csv('diamonds.csv')"
      ]
    },
    {
      "cell_type": "code",
      "execution_count": 3,
      "id": "70d9ccfe-e1cf-4c90-a5ab-40ae0852f1ce",
      "metadata": {
        "colab": {
          "base_uri": "https://localhost:8080/",
          "height": 204
        },
        "id": "70d9ccfe-e1cf-4c90-a5ab-40ae0852f1ce",
        "outputId": "48caecef-fcb9-440b-dd8b-3e4189ff9708"
      },
      "outputs": [
        {
          "data": {
            "text/html": [
              "<div>\n",
              "<style scoped>\n",
              "    .dataframe tbody tr th:only-of-type {\n",
              "        vertical-align: middle;\n",
              "    }\n",
              "\n",
              "    .dataframe tbody tr th {\n",
              "        vertical-align: top;\n",
              "    }\n",
              "\n",
              "    .dataframe thead th {\n",
              "        text-align: right;\n",
              "    }\n",
              "</style>\n",
              "<table border=\"1\" class=\"dataframe\">\n",
              "  <thead>\n",
              "    <tr style=\"text-align: right;\">\n",
              "      <th></th>\n",
              "      <th>Unnamed: 0</th>\n",
              "      <th>carat</th>\n",
              "      <th>cut</th>\n",
              "      <th>color</th>\n",
              "      <th>clarity</th>\n",
              "      <th>depth</th>\n",
              "      <th>table</th>\n",
              "      <th>price</th>\n",
              "      <th>x</th>\n",
              "      <th>y</th>\n",
              "      <th>z</th>\n",
              "    </tr>\n",
              "  </thead>\n",
              "  <tbody>\n",
              "    <tr>\n",
              "      <th>0</th>\n",
              "      <td>1</td>\n",
              "      <td>0.23</td>\n",
              "      <td>Ideal</td>\n",
              "      <td>E</td>\n",
              "      <td>SI2</td>\n",
              "      <td>61.5</td>\n",
              "      <td>55.0</td>\n",
              "      <td>326</td>\n",
              "      <td>3.95</td>\n",
              "      <td>3.98</td>\n",
              "      <td>2.43</td>\n",
              "    </tr>\n",
              "    <tr>\n",
              "      <th>1</th>\n",
              "      <td>2</td>\n",
              "      <td>0.21</td>\n",
              "      <td>Premium</td>\n",
              "      <td>E</td>\n",
              "      <td>SI1</td>\n",
              "      <td>59.8</td>\n",
              "      <td>61.0</td>\n",
              "      <td>326</td>\n",
              "      <td>3.89</td>\n",
              "      <td>3.84</td>\n",
              "      <td>2.31</td>\n",
              "    </tr>\n",
              "    <tr>\n",
              "      <th>2</th>\n",
              "      <td>3</td>\n",
              "      <td>0.23</td>\n",
              "      <td>Good</td>\n",
              "      <td>E</td>\n",
              "      <td>VS1</td>\n",
              "      <td>56.9</td>\n",
              "      <td>65.0</td>\n",
              "      <td>327</td>\n",
              "      <td>4.05</td>\n",
              "      <td>4.07</td>\n",
              "      <td>2.31</td>\n",
              "    </tr>\n",
              "    <tr>\n",
              "      <th>3</th>\n",
              "      <td>4</td>\n",
              "      <td>0.29</td>\n",
              "      <td>Premium</td>\n",
              "      <td>I</td>\n",
              "      <td>VS2</td>\n",
              "      <td>62.4</td>\n",
              "      <td>58.0</td>\n",
              "      <td>334</td>\n",
              "      <td>4.20</td>\n",
              "      <td>4.23</td>\n",
              "      <td>2.63</td>\n",
              "    </tr>\n",
              "    <tr>\n",
              "      <th>4</th>\n",
              "      <td>5</td>\n",
              "      <td>0.31</td>\n",
              "      <td>Good</td>\n",
              "      <td>J</td>\n",
              "      <td>SI2</td>\n",
              "      <td>63.3</td>\n",
              "      <td>58.0</td>\n",
              "      <td>335</td>\n",
              "      <td>4.34</td>\n",
              "      <td>4.35</td>\n",
              "      <td>2.75</td>\n",
              "    </tr>\n",
              "  </tbody>\n",
              "</table>\n",
              "</div>"
            ],
            "text/plain": [
              "   Unnamed: 0  carat      cut color clarity  depth  table  price     x     y  \\\n",
              "0           1   0.23    Ideal     E     SI2   61.5   55.0    326  3.95  3.98   \n",
              "1           2   0.21  Premium     E     SI1   59.8   61.0    326  3.89  3.84   \n",
              "2           3   0.23     Good     E     VS1   56.9   65.0    327  4.05  4.07   \n",
              "3           4   0.29  Premium     I     VS2   62.4   58.0    334  4.20  4.23   \n",
              "4           5   0.31     Good     J     SI2   63.3   58.0    335  4.34  4.35   \n",
              "\n",
              "      z  \n",
              "0  2.43  \n",
              "1  2.31  \n",
              "2  2.31  \n",
              "3  2.63  \n",
              "4  2.75  "
            ]
          },
          "execution_count": 3,
          "metadata": {},
          "output_type": "execute_result"
        }
      ],
      "source": [
        "diamonds_df.head()"
      ]
    },
    {
      "cell_type": "code",
      "execution_count": 4,
      "id": "fad21c95-f542-44ec-8f06-8f57fd42ddef",
      "metadata": {
        "colab": {
          "base_uri": "https://localhost:8080/",
          "height": 430
        },
        "id": "fad21c95-f542-44ec-8f06-8f57fd42ddef",
        "outputId": "cda66a09-590c-45b0-9ed1-1699bfddaaf9"
      },
      "outputs": [
        {
          "data": {
            "image/png": "[encoded data removed]",
            "text/plain": [
              "<Figure size 640x480 with 1 Axes>"
            ]
          },
          "metadata": {},
          "output_type": "display_data"
        }
      ],
      "source": [
        "plt.hist(diamonds_df['price'], bins=100)\n",
        "plt.grid()"
      ]
    },
    {
      "cell_type": "markdown",
      "id": "17ac44bb-86c7-424a-8b9b-0a21bf490683",
      "metadata": {
        "id": "17ac44bb-86c7-424a-8b9b-0a21bf490683"
      },
      "source": [
        "# Подготовка данных"
      ]
    },
    {
      "cell_type": "code",
      "execution_count": 5,
      "id": "e19945ea-cecf-481e-a28b-3f9c11001918",
      "metadata": {
        "id": "e19945ea-cecf-481e-a28b-3f9c11001918"
      },
      "outputs": [],
      "source": [
        "features = ['carat', 'cut', 'color', 'clarity', 'depth', 'table', 'x', 'y', 'z']\n",
        "target = ['price']"
      ]
    },
    {
      "cell_type": "code",
      "execution_count": 6,
      "id": "fbc43eb0-e77f-4765-8b0e-b9052c093855",
      "metadata": {
        "id": "fbc43eb0-e77f-4765-8b0e-b9052c093855"
      },
      "outputs": [],
      "source": [
        "cut_transform = {'Fair': 0, 'Good': 1, 'Very Good': 2, 'Premium': 3, 'Ideal': 4}\n",
        "clarity_transform = {'I1': 0, 'SI2': 1, 'SI1': 2, 'VS2': 3, 'VS1': 4, 'VVS2': 5, 'VVS1': 6, 'IF': 7}\n",
        "color_transorm = {'D': 0, 'E': 1, 'F': 2, 'G': 3, 'H': 4, 'I': 5, 'J': 6}"
      ]
    },
    {
      "cell_type": "code",
      "execution_count": 7,
      "id": "6f82b34f-9ffc-478f-a103-b2cbbca49a94",
      "metadata": {
        "id": "6f82b34f-9ffc-478f-a103-b2cbbca49a94"
      },
      "outputs": [],
      "source": [
        "diamonds_df['cut'] = diamonds_df['cut'].apply(lambda x: cut_transform.get(x))\n",
        "diamonds_df['color'] = diamonds_df['color'].apply(lambda x: color_transorm.get(x))\n",
        "diamonds_df['clarity'] = diamonds_df['clarity'].apply(lambda x: clarity_transform.get(x))"
      ]
    },
    {
      "cell_type": "code",
      "execution_count": 8,
      "id": "8e5fa82b-92ed-4e79-adf2-422204b45e82",
      "metadata": {
        "id": "8e5fa82b-92ed-4e79-adf2-422204b45e82"
      },
      "outputs": [],
      "source": [
        "X = diamonds_df[features].copy().values\n",
        "y = diamonds_df[target].values"
      ]
    },
    {
      "cell_type": "code",
      "execution_count": 9,
      "id": "64c11d68-dc5c-4753-9cc4-3cc4e136f3cb",
      "metadata": {
        "id": "64c11d68-dc5c-4753-9cc4-3cc4e136f3cb"
      },
      "outputs": [],
      "source": [
        "X_train, X_test, y_train, y_test = train_test_split(X, y, random_state=47, test_size=0.3)"
      ]
    },
    {
      "cell_type": "code",
      "execution_count": 10,
      "id": "rGU9tSuwk3Lp",
      "metadata": {
        "id": "rGU9tSuwk3Lp"
      },
      "outputs": [],
      "source": [
        "scaler = MinMaxScaler()\n",
        "X_train = scaler.fit_transform(X_train)\n",
        "X_test = scaler.transform(X_test)"
      ]
    },
    {
      "cell_type": "markdown",
      "id": "3b743ed1-d0cf-485d-b8f2-8c71fc174e8b",
      "metadata": {
        "id": "3b743ed1-d0cf-485d-b8f2-8c71fc174e8b"
      },
      "source": [
        "# Обучаем модель линейной регрессии"
      ]
    },
    {
      "cell_type": "code",
      "execution_count": 11,
      "id": "3N2iJEIuxW0H",
      "metadata": {
        "id": "3N2iJEIuxW0H"
      },
      "outputs": [],
      "source": [
        "reg = LinearRegression().fit(X_train, y_train)"
      ]
    },
    {
      "cell_type": "code",
      "execution_count": 12,
      "id": "f968e336-4049-41b2-81d1-4c24f0969bbb",
      "metadata": {
        "id": "f968e336-4049-41b2-81d1-4c24f0969bbb"
      },
      "outputs": [],
      "source": [
        "y_pred = reg.predict(X_test)"
      ]
    },
    {
      "cell_type": "code",
      "execution_count": 13,
      "id": "0952990a-b3d6-4da4-9cc6-1ab3a7a25ac7",
      "metadata": {
        "id": "0952990a-b3d6-4da4-9cc6-1ab3a7a25ac7"
      },
      "outputs": [],
      "source": [
        "score = r2_score(y_pred, y_test)"
      ]
    },
    {
      "cell_type": "code",
      "execution_count": null,
      "id": "f89c3bbd-0a3a-48ac-b1ab-b75dc0c5bcce",
      "metadata": {
        "colab": {
          "base_uri": "https://localhost:8080/",
          "height": 452
        },
        "id": "f89c3bbd-0a3a-48ac-b1ab-b75dc0c5bcce",
        "outputId": "587de3bd-b38b-4de9-d156-ac034b9dc075"
      },
      "outputs": [
        {
          "data": {
            "image/png": "[encoded data removed]",
            "text/plain": [
              "<Figure size 640x480 with 1 Axes>"
            ]
          },
          "metadata": {},
          "output_type": "display_data"
        }
      ],
      "source": [
        "plt.title(f'R2: {str(score)[:5]}')\n",
        "plt.hist(y_pred.reshape(1, -1)[0], bins=100, label='PREDICTION')\n",
        "plt.hist(y_test.reshape(1, -1)[0], bins=100, label='GT')\n",
        "plt.legend()\n",
        "plt.grid()"
      ]
    },
    {
      "cell_type": "code",
      "execution_count": 21,
      "id": "8e4f16b9",
      "metadata": {},
      "outputs": [
        {
          "data": {
            "text/plain": [
              "np.float64(3892.1881102459524)"
            ]
          },
          "execution_count": 21,
          "metadata": {},
          "output_type": "execute_result"
        }
      ],
      "source": [
        "np.mean(y_test)"
      ]
    },
    {
      "cell_type": "code",
      "execution_count": 19,
      "id": "9c15f91e",
      "metadata": {},
      "outputs": [
        {
          "data": {
            "text/plain": [
              "np.float64(810.8358895349686)"
            ]
          },
          "execution_count": 19,
          "metadata": {},
          "output_type": "execute_result"
        }
      ],
      "source": [
        "mae_score = mean_absolute_error(y_pred, y_test)\n",
        "mae_score"
      ]
    },
    {
      "cell_type": "markdown",
      "id": "6nKJT7VRlIeU",
      "metadata": {
        "id": "6nKJT7VRlIeU"
      },
      "source": [
        "# Задание 1: Реализация Gradient Descent для модели линейной регрессии"
      ]
    },
    {
      "cell_type": "markdown",
      "id": "7UpV6l4clfwC",
      "metadata": {
        "id": "7UpV6l4clfwC"
      },
      "source": [
        "Ниже представлен шаблон кода, который необходимо дополнить, реализовав все указанные методы, и самостоятельно протестировать корректность решения. Можно (и даже нужно) добавлять свои методы для бОльшей читабельности кода\n",
        "\n",
        "Достаточно будет, чтобы код работал для случая, когда X и y - np.ndarray\n",
        "\n",
        "Внутри класса запрещается использовать сторонние библиотеки, кроме numpy"
      ]
    },
    {
      "cell_type": "code",
      "execution_count": null,
      "id": "ohUWWybdlHYw",
      "metadata": {
        "id": "ohUWWybdlHYw"
      },
      "outputs": [],
      "source": [
        "class LinearRegressorGD:\n",
        "    \"\"\"\n",
        "    Линейная регрессия с использованием Gradient Descent\n",
        "    \"\"\"\n",
        "\n",
        "    def __init__(self, learning_rate=0.01, n_iter=1000, verbose=False):\n",
        "        \"\"\"\n",
        "        Конструктор класса\n",
        "\n",
        "        Параметры:\n",
        "            learning_rate (float): Скорость обучения\n",
        "            n_iter (int): Количество итераций градиентного спуска\n",
        "            verbose (bool): Если True, выводит информацию о процессе обучения\n",
        "        \"\"\"\n",
        "        self.learning_rate = learning_rate\n",
        "        self.n_iter = n_iter\n",
        "        self.weights = None\n",
        "        self.bias = None\n",
        "        self.loss_history = []\n",
        "        self.verbose = verbose\n",
        "\n",
        "    def compute_loss(self, y_true, y_pred):\n",
        "        \"\"\"\n",
        "        Вычисление функции потерь MSE\n",
        "        Параметры:\n",
        "            y_true (np.ndarray): Вектор таргета длины n_samples\n",
        "            y_pred (np.ndarray): Вектор предсказаний длины n_samples\n",
        "        \"\"\"\n",
        "\n",
        "        n_samples = y_true.shape[0]\n",
        "\n",
        "        return (1 / n_samples) * np.sum((y_pred - y_true) ** 2)\n",
        "\n",
        "    def compute_gradients(self, X, y_true, y_pred):\n",
        "        \"\"\"\n",
        "        Вычисление градиентов функции потерь по весам и смещению\n",
        "        Параметры:\n",
        "            X (np.ndarray): Матрица признаков размера (n_samples, n_features)\n",
        "            y (np.ndarray): Вектор таргета длины n_samples\n",
        "            y_pred (np.ndarray): Вектор предсказаний длины n_samples\n",
        "        \"\"\"\n",
        "        n_samples = y_true.shape[0]\n",
        "        \n",
        "        dw = (2 / n_samples) * np.dot(X.T, (y_pred - y_true))\n",
        "        db = (2 / n_samples) * np.sum(y_pred - y_true)\n",
        "        \n",
        "        return dw, db\n",
        "\n",
        "    def fit(self, X, y):\n",
        "        \"\"\"\n",
        "        Обучение модели на обучающей выборке с использованием\n",
        "        градиентного спуска\n",
        "\n",
        "        Параметры:\n",
        "            X (np.ndarray): Матрица признаков размера (n_samples, n_features)\n",
        "            y (np.ndarray): Вектор таргета длины n_samples\n",
        "        \"\"\"\n",
        "        n_samples, n_features = X.shape\n",
        "        self.weights = np.zeros(n_features)\n",
        "        self.bias = 0.0\n",
        "\n",
        "        for i in range(self.n_iter):    \n",
        "            y_pred = np.dot(X, self.weights) + self.bias\n",
        "            \n",
        "            loss = self.compute_loss(y, y_pred)\n",
        "            self.loss_history.append(loss)\n",
        "            \n",
        "            dw, db = self.compute_gradients(X, y, y_pred)\n",
        "            \n",
        "            self.weights -= self.learning_rate * dw\n",
        "            self.bias -= self.learning_rate * db\n",
        "            \n",
        "            if self.verbose and i % 100 == 0:\n",
        "                print(f'Итерация {i}, Ошибка: {loss:.4f}')\n",
        "\n",
        "        return self\n",
        "\n",
        "\n",
        "    def predict(self, X):\n",
        "        \"\"\"\n",
        "        Получение предсказаний обученной модели\n",
        "\n",
        "        Параметры:\n",
        "            X (np.ndarray): Матрица признаков\n",
        "\n",
        "        Возвращает:\n",
        "            np.ndarray: Предсказание для каждого элемента из X\n",
        "        \"\"\"\n",
        "        return np.dot(X, self.weights) + self.bias\n",
        "\n",
        "    def get_params(self):\n",
        "        \"\"\"\n",
        "        Возвращает обученные параметры модели\n",
        "        \"\"\"\n",
        "        return {'weights': self.weights, 'bias': self.bias, 'loss_history': self.loss_history}\n"
      ]
    },
    {
      "cell_type": "code",
      "execution_count": 22,
      "id": "fbb1f786",
      "metadata": {},
      "outputs": [
        {
          "data": {
            "text/plain": [
              "((37758, 9), (37758, 1))"
            ]
          },
          "execution_count": 22,
          "metadata": {},
          "output_type": "execute_result"
        }
      ],
      "source": [
        "X_train.shape, y_train.shape"
      ]
    },
    {
      "cell_type": "code",
      "execution_count": 26,
      "id": "d8f3e029",
      "metadata": {},
      "outputs": [],
      "source": [
        "y_train = y_train.ravel()\n",
        "y_test = y_test.ravel()"
      ]
    },
    {
      "cell_type": "code",
      "execution_count": 42,
      "id": "bfea6335",
      "metadata": {},
      "outputs": [
        {
          "name": "stdout",
          "output_type": "stream",
          "text": [
            "Итерация 0, Ошибка: 31527543.6139\n",
            "Итерация 100, Ошибка: 4996222.3145\n",
            "Итерация 200, Ошибка: 2806754.6773\n",
            "Итерация 300, Ошибка: 2167364.4298\n",
            "Итерация 400, Ошибка: 1972425.6287\n",
            "Итерация 500, Ошибка: 1905969.2448\n",
            "Итерация 600, Ошибка: 1877200.0847\n",
            "Итерация 700, Ошибка: 1859947.1284\n",
            "Итерация 800, Ошибка: 1846602.2477\n",
            "Итерация 900, Ошибка: 1834901.0468\n",
            "Итерация 1000, Ошибка: 1824126.8215\n",
            "Итерация 1100, Ошибка: 1814018.6703\n",
            "Итерация 1200, Ошибка: 1804455.9727\n",
            "Итерация 1300, Ошибка: 1795366.0506\n",
            "Итерация 1400, Ошибка: 1786696.2178\n",
            "Итерация 1500, Ошибка: 1778404.5887\n",
            "Итерация 1600, Ошибка: 1770456.4984\n",
            "Итерация 1700, Ошибка: 1762822.7172\n",
            "Итерация 1800, Ошибка: 1755478.3270\n",
            "Итерация 1900, Ошибка: 1748401.9066\n",
            "Итерация 2000, Ошибка: 1741574.8994\n",
            "Итерация 2100, Ошибка: 1734981.1114\n",
            "Итерация 2200, Ошибка: 1728606.3062\n",
            "Итерация 2300, Ошибка: 1722437.8778\n",
            "Итерация 2400, Ошибка: 1716464.5849\n",
            "Итерация 2500, Ошибка: 1710676.3354\n",
            "Итерация 2600, Ошибка: 1705064.0099\n",
            "Итерация 2700, Ошибка: 1699619.3175\n",
            "Итерация 2800, Ошибка: 1694334.6777\n",
            "Итерация 2900, Ошибка: 1689203.1230\n",
            "Итерация 3000, Ошибка: 1684218.2184\n",
            "Итерация 3100, Ошибка: 1679373.9949\n",
            "Итерация 3200, Ошибка: 1674664.8931\n",
            "Итерация 3300, Ошибка: 1670085.7172\n",
            "Итерация 3400, Ошибка: 1665631.5953\n",
            "Итерация 3500, Ошибка: 1661297.9461\n",
            "Итерация 3600, Ошибка: 1657080.4506\n",
            "Итерация 3700, Ошибка: 1652975.0277\n",
            "Итерация 3800, Ошибка: 1648977.8130\n",
            "Итерация 3900, Ошибка: 1645085.1408\n",
            "Итерация 4000, Ошибка: 1641293.5280\n",
            "Итерация 4100, Ошибка: 1637599.6600\n",
            "Итерация 4200, Ошибка: 1634000.3786\n",
            "Итерация 4300, Ошибка: 1630492.6705\n",
            "Итерация 4400, Ошибка: 1627073.6578\n",
            "Итерация 4500, Ошибка: 1623740.5889\n",
            "Итерация 4600, Ошибка: 1620490.8304\n",
            "Итерация 4700, Ошибка: 1617321.8601\n",
            "Итерация 4800, Ошибка: 1614231.2601\n",
            "Итерация 4900, Ошибка: 1611216.7106\n",
            "Итерация 5000, Ошибка: 1608275.9847\n",
            "Итерация 5100, Ошибка: 1605406.9428\n",
            "Итерация 5200, Ошибка: 1602607.5281\n",
            "Итерация 5300, Ошибка: 1599875.7621\n",
            "Итерация 5400, Ошибка: 1597209.7404\n",
            "Итерация 5500, Ошибка: 1594607.6292\n",
            "Итерация 5600, Ошибка: 1592067.6612\n",
            "Итерация 5700, Ошибка: 1589588.1328\n",
            "Итерация 5800, Ошибка: 1587167.4007\n",
            "Итерация 5900, Ошибка: 1584803.8790\n",
            "Итерация 6000, Ошибка: 1582496.0366\n",
            "Итерация 6100, Ошибка: 1580242.3946\n",
            "Итерация 6200, Ошибка: 1578041.5237\n",
            "Итерация 6300, Ошибка: 1575892.0421\n",
            "Итерация 6400, Ошибка: 1573792.6133\n",
            "Итерация 6500, Ошибка: 1571741.9444\n",
            "Итерация 6600, Ошибка: 1569738.7837\n",
            "Итерация 6700, Ошибка: 1567781.9190\n",
            "Итерация 6800, Ошибка: 1565870.1763\n",
            "Итерация 6900, Ошибка: 1564002.4180\n",
            "Итерация 7000, Ошибка: 1562177.5411\n",
            "Итерация 7100, Ошибка: 1560394.4761\n",
            "Итерация 7200, Ошибка: 1558652.1857\n",
            "Итерация 7300, Ошибка: 1556949.6633\n",
            "Итерация 7400, Ошибка: 1555285.9319\n",
            "Итерация 7500, Ошибка: 1553660.0428\n",
            "Итерация 7600, Ошибка: 1552071.0748\n",
            "Итерация 7700, Ошибка: 1550518.1328\n",
            "Итерация 7800, Ошибка: 1549000.3474\n",
            "Итерация 7900, Ошибка: 1547516.8730\n",
            "Итерация 8000, Ошибка: 1546066.8881\n",
            "Итерация 8100, Ошибка: 1544649.5934\n",
            "Итерация 8200, Ошибка: 1543264.2117\n",
            "Итерация 8300, Ошибка: 1541909.9866\n",
            "Итерация 8400, Ошибка: 1540586.1824\n",
            "Итерация 8500, Ошибка: 1539292.0828\n",
            "Итерация 8600, Ошибка: 1538026.9905\n",
            "Итерация 8700, Ошибка: 1536790.2266\n",
            "Итерация 8800, Ошибка: 1535581.1300\n",
            "Итерация 8900, Ошибка: 1534399.0566\n",
            "Итерация 9000, Ошибка: 1533243.3791\n",
            "Итерация 9100, Ошибка: 1532113.4861\n",
            "Итерация 9200, Ошибка: 1531008.7818\n",
            "Итерация 9300, Ошибка: 1529928.6857\n",
            "Итерация 9400, Ошибка: 1528872.6316\n",
            "Итерация 9500, Ошибка: 1527840.0677\n",
            "Итерация 9600, Ошибка: 1526830.4559\n",
            "Итерация 9700, Ошибка: 1525843.2713\n",
            "Итерация 9800, Ошибка: 1524878.0021\n",
            "Итерация 9900, Ошибка: 1523934.1491\n",
            "Итерация 10000, Ошибка: 1523011.2251\n",
            "Итерация 10100, Ошибка: 1522108.7548\n",
            "Итерация 10200, Ошибка: 1521226.2746\n",
            "Итерация 10300, Ошибка: 1520363.3318\n",
            "Итерация 10400, Ошибка: 1519519.4849\n",
            "Итерация 10500, Ошибка: 1518694.3026\n",
            "Итерация 10600, Ошибка: 1517887.3641\n",
            "Итерация 10700, Ошибка: 1517098.2586\n",
            "Итерация 10800, Ошибка: 1516326.5850\n",
            "Итерация 10900, Ошибка: 1515571.9516\n",
            "Итерация 11000, Ошибка: 1514833.9761\n",
            "Итерация 11100, Ошибка: 1514112.2848\n",
            "Итерация 11200, Ошибка: 1513406.5132\n",
            "Итерация 11300, Ошибка: 1512716.3050\n",
            "Итерация 11400, Ошибка: 1512041.3122\n",
            "Итерация 11500, Ошибка: 1511381.1951\n",
            "Итерация 11600, Ошибка: 1510735.6216\n",
            "Итерация 11700, Ошибка: 1510104.2673\n",
            "Итерация 11800, Ошибка: 1509486.8155\n",
            "Итерация 11900, Ошибка: 1508882.9566\n",
            "Итерация 12000, Ошибка: 1508292.3881\n",
            "Итерация 12100, Ошибка: 1507714.8145\n",
            "Итерация 12200, Ошибка: 1507149.9470\n",
            "Итерация 12300, Ошибка: 1506597.5034\n",
            "Итерация 12400, Ошибка: 1506057.2079\n",
            "Итерация 12500, Ошибка: 1505528.7911\n",
            "Итерация 12600, Ошибка: 1505011.9895\n",
            "Итерация 12700, Ошибка: 1504506.5457\n",
            "Итерация 12800, Ошибка: 1504012.2083\n",
            "Итерация 12900, Ошибка: 1503528.7312\n",
            "Итерация 13000, Ошибка: 1503055.8741\n",
            "Итерация 13100, Ошибка: 1502593.4021\n",
            "Итерация 13200, Ошибка: 1502141.0856\n",
            "Итерация 13300, Ошибка: 1501698.7000\n",
            "Итерация 13400, Ошибка: 1501266.0260\n",
            "Итерация 13500, Ошибка: 1500842.8491\n",
            "Итерация 13600, Ошибка: 1500428.9595\n",
            "Итерация 13700, Ошибка: 1500024.1522\n",
            "Итерация 13800, Ошибка: 1499628.2268\n",
            "Итерация 13900, Ошибка: 1499240.9874\n",
            "Итерация 14000, Ошибка: 1498862.2424\n",
            "Итерация 14100, Ошибка: 1498491.8045\n",
            "Итерация 14200, Ошибка: 1498129.4907\n",
            "Итерация 14300, Ошибка: 1497775.1218\n",
            "Итерация 14400, Ошибка: 1497428.5229\n",
            "Итерация 14500, Ошибка: 1497089.5227\n",
            "Итерация 14600, Ошибка: 1496757.9540\n",
            "Итерация 14700, Ошибка: 1496433.6532\n",
            "Итерация 14800, Ошибка: 1496116.4601\n",
            "Итерация 14900, Ошибка: 1495806.2185\n"
          ]
        },
        {
          "data": {
            "text/plain": [
              "<__main__.LinearRegressorGD at 0x15b0dc6b0>"
            ]
          },
          "execution_count": 42,
          "metadata": {},
          "output_type": "execute_result"
        }
      ],
      "source": [
        "my_model = LinearRegressorGD(learning_rate=0.25, n_iter=15000, verbose=True)\n",
        "my_model.fit(X_train, y_train)"
      ]
    },
    {
      "cell_type": "code",
      "execution_count": 43,
      "id": "b2660f83",
      "metadata": {},
      "outputs": [],
      "source": [
        "def print_metrics(y_true, y_pred, model_name):\n",
        "    print(f\"{model_name}:\")\n",
        "    print(f\"MAE: {mean_absolute_error(y_true, y_pred):.2f}\")\n",
        "    print(f\"MSE: {mean_squared_error(y_true, y_pred):.2f}\")\n",
        "    print(f\"RMSE: {np.sqrt(mean_squared_error(y_true, y_pred)):.2f}\")\n",
        "    print(f\"R2: {r2_score(y_true, y_pred):.4f}\")"
      ]
    },
    {
      "cell_type": "code",
      "execution_count": 44,
      "id": "0a804849",
      "metadata": {},
      "outputs": [
        {
          "name": "stdout",
          "output_type": "stream",
          "text": [
            "LinRegGD:\n",
            "MAE: 833.39\n",
            "MSE: 1497357.01\n",
            "RMSE: 1223.67\n",
            "R2: 0.9058\n",
            "\n",
            "Sklearn LinReg:\n",
            "MAE: 810.84\n",
            "MSE: 1477039.71\n",
            "RMSE: 1215.34\n",
            "R2: 0.9071\n"
          ]
        }
      ],
      "source": [
        "y_pred_my = my_model.predict(X_test)\n",
        "print_metrics(y_test, y_pred_my, \"LinRegGD\")\n",
        "print()\n",
        "print_metrics(y_test, y_pred, \"Sklearn LinReg\")\n"
      ]
    },
    {
      "cell_type": "markdown",
      "id": "ebkQuLxTpTmF",
      "metadata": {
        "id": "ebkQuLxTpTmF"
      },
      "source": [
        "# Задание 2: Реализация backpropagation для MLP"
      ]
    },
    {
      "cell_type": "markdown",
      "id": "2G7W8JLzpZRf",
      "metadata": {
        "id": "2G7W8JLzpZRf"
      },
      "source": [
        "Ниже представлен шаблон кода, который необходимо дополнить, реализовав все указанные методы, и самостоятельно протестировать корректность решения. Можно (и даже нужно) добавлять свои методы для бОльшей читабельности кода\n",
        "\n",
        "Достаточно будет, чтобы код работал для случая, когда X и y - np.ndarray\n",
        "\n",
        "В качестве функции активации на внутренних слоях нужно использовать Sigmoid, а на выходе - линейную активацию f(x) = x\n",
        "\n",
        "Внутри класса запрещается использовать сторонние библиотеки, кроме numpy"
      ]
    },
    {
      "cell_type": "code",
      "execution_count": null,
      "id": "mh30KL1jpZr5",
      "metadata": {
        "id": "mh30KL1jpZr5"
      },
      "outputs": [],
      "source": [
        "class MLPRegressor:\n",
        "    \"\"\"\n",
        "    Многослойный перцептрон (MLP) для задачи регрессии, использующий алгоритм\n",
        "    обратного распространения ошибки\n",
        "    \"\"\"\n",
        "\n",
        "    def __init__(self, hidden_layer_sizes=(100,), learning_rate=0.01, n_iter=100):\n",
        "        \"\"\"\n",
        "        Конструктор класса\n",
        "\n",
        "        Параметры:\n",
        "            hidden_layer_sizes (tuple): Кортеж, определяющий архитектуру\n",
        "        скрытых слоев. Например (100, 10) - два скрытых слоя, размером 100 и 10\n",
        "        нейронов, соответственно\n",
        "            learning_rate (float): Скорость обучения\n",
        "            n_iter (int): Количество итераций градиентного спуска\n",
        "            weights (list): Список весов для каждого слоя\n",
        "            biases (list): Список смещений для каждого слоя\n",
        "            loss_history (list): История значений функции потерь на каждой итерации\n",
        "            activations (list): Список активаций каждого слоя\n",
        "            z_values (list): Список z = XW + b до активации каждого слоя\n",
        "        \"\"\"\n",
        "        self.hidden_layer_sizes = hidden_layer_sizes\n",
        "        self.learning_rate = learning_rate\n",
        "        self.n_iter = n_iter\n",
        "        self.weights = []\n",
        "        self.biases = []\n",
        "        self.loss_history = []\n",
        "        self.activations = []\n",
        "        self.z_values = []\n",
        "\n",
        "    def initialize_weights(self, n_features):\n",
        "        self.weights = []\n",
        "        self.biases = []\n",
        "\n",
        "        layer_sizes = [n_features] + list(self.hidden_layer_sizes) + [1]\n",
        "        \n",
        "        for i in range(len(layer_sizes)-1):\n",
        "            W = np.random.uniform(-0.1, 0.1, (layer_sizes[i], layer_sizes[i+1]))\n",
        "            b = np.zeros(layer_sizes[i+1])\n",
        "            \n",
        "            self.weights.append(W)\n",
        "            self.biases.append(b)\n",
        "\n",
        "    def sigmoid(self, x):\n",
        "        return 1 / (1 + np.exp(-x))\n",
        "\n",
        "    def sigmoid_derivative(self, x):\n",
        "        sig = self.sigmoid(x)\n",
        "        return sig * (1 - sig)\n",
        "\n",
        "    def forward(self, X):\n",
        "        \"\"\"\n",
        "        Реализация forward pass\n",
        "\n",
        "        Параметры:\n",
        "            X (np.ndarray): Матрица признаков размера (n_samples, n_features)\n",
        "\n",
        "        Возвращает:\n",
        "            np.ndarray: Предсказания модели\n",
        "        \"\"\"\n",
        "        \n",
        "        self.activations = [X]\n",
        "        self.z_values = []\n",
        "\n",
        "        for i in range(len(self.weights)-1):\n",
        "            z = np.dot(self.activations[-1], self.weights[i]) + self.biases[i]\n",
        "            a = self.sigmoid(z)\n",
        "            self.z_values.append(z)\n",
        "            self.activations.append(a)\n",
        "        \n",
        "        z_out = np.dot(self.activations[-1], self.weights[-1]) + self.biases[-1]\n",
        "        self.z_values.append(z_out)\n",
        "        self.activations.append(z_out)\n",
        "    \n",
        "        return self.activations[-1]\n",
        "\n",
        "    def backward(self, X, y):\n",
        "\n",
        "        n_samples = X.shape[0]\n",
        "        gradients_w = []\n",
        "        gradients_b = []\n",
        "\n",
        "        error = self.activations[-1] - y.reshape(-1, 1)\n",
        "        delta = (2 / n_samples) * error \n",
        "\n",
        "        for i in range(len(self.weights) - 1, 0, -1):\n",
        "            grad_w = np.dot(self.activations[i].T, delta)\n",
        "            grad_b = np.sum(delta, axis=0)\n",
        "            \n",
        "            gradients_w.append(grad_w)\n",
        "            gradients_b.append(grad_b)\n",
        "            \n",
        "            delta = np.dot(delta, self.weights[i].T) * self.sigmoid_derivative(self.z_values[i - 1])\n",
        "\n",
        "        grad_w = np.dot(X.T, delta)\n",
        "        grad_b = np.sum(delta, axis=0)\n",
        "        gradients_w.append(grad_w)\n",
        "        gradients_b.append(grad_b)\n",
        "        gradients_w.reverse()\n",
        "        gradients_b.reverse()\n",
        "\n",
        "        return gradients_w, gradients_b\n",
        "\n",
        "    def fit(self, X, y):\n",
        "        \"\"\"\n",
        "        Обучение модели\n",
        "\n",
        "        Параметры:\n",
        "            X (np.ndarray): Матрица признаков размера (n_samples, n_features)\n",
        "            y (np.ndarray): Вектор таргета длины n_samples\n",
        "        \"\"\"\n",
        "        self.initialize_weights(X.shape[1])\n",
        "    \n",
        "        for epoch in range(self.n_iter):\n",
        "            y_pred = self.forward(X)\n",
        "            \n",
        "            grad_w, grad_b = self.backward(X, y)\n",
        "            \n",
        "            for i in range(len(self.weights)):\n",
        "                self.weights[i] -= self.learning_rate * grad_w[i]\n",
        "                self.biases[i] -= self.learning_rate * grad_b[i]\n",
        "            \n",
        "            loss = np.mean((y_pred - y.reshape(-1, 1))**2)\n",
        "            self.loss_history.append(loss)\n",
        "            \n",
        "            if epoch % 100 == 0:\n",
        "                print(f\"Эпоха {epoch}, Ошибка: {loss:.4f}\")\n",
        "        \n",
        "        return self\n",
        "\n",
        "    def predict(self, X):\n",
        "        \"\"\"\n",
        "        Получение предсказаний обученной модели\n",
        "\n",
        "        Параметры:\n",
        "            X (np.ndarray): Матрица признаков\n",
        "\n",
        "        Возвращает:\n",
        "            np.ndarray: Предсказание для каждого элемента из X\n",
        "        \"\"\"\n",
        "        a = X\n",
        "        for i in range(len(self.weights) - 1):\n",
        "            z = np.dot(a, self.weights[i]) + self.biases[i]\n",
        "            a = self.sigmoid(z)\n",
        "        z_out = np.dot(a, self.weights[-1]) + self.biases[-1]\n",
        "\n",
        "        return z_out.flatten()\n"
      ]
    },
    {
      "cell_type": "code",
      "execution_count": 57,
      "id": "ab4d931f",
      "metadata": {},
      "outputs": [
        {
          "name": "stdout",
          "output_type": "stream",
          "text": [
            "Эпоха 0, Ошибка: 31526980.3713\n"
          ]
        },
        {
          "name": "stderr",
          "output_type": "stream",
          "text": [
            "/var/folders/2r/gbs4t6vx0g9frh8t4w63tzfm0000gn/T/ipykernel_42263/1853030255.py:46: RuntimeWarning: overflow encountered in exp\n",
            "  return 1 / (1 + np.exp(-x))\n"
          ]
        },
        {
          "name": "stdout",
          "output_type": "stream",
          "text": [
            "Эпоха 100, Ошибка: 15923427.4200\n",
            "Эпоха 200, Ошибка: 15923427.0625\n",
            "Эпоха 300, Ошибка: 15923426.8701\n",
            "Эпоха 400, Ошибка: 15923426.7295\n",
            "Эпоха 500, Ошибка: 15923426.5812\n",
            "Эпоха 600, Ошибка: 15923426.2121\n",
            "Эпоха 700, Ошибка: 15923426.2711\n",
            "Эпоха 800, Ошибка: 15923426.4933\n",
            "Эпоха 900, Ошибка: 15923426.6342\n",
            "Эпоха 1000, Ошибка: 15923426.6035\n",
            "Эпоха 1100, Ошибка: 15923426.5710\n",
            "Эпоха 1200, Ошибка: 15923426.5309\n",
            "Эпоха 1300, Ошибка: 15923426.4650\n",
            "Эпоха 1400, Ошибка: 15923426.1937\n",
            "Эпоха 1500, Ошибка: 15923426.3534\n",
            "Эпоха 1600, Ошибка: 15923426.4565\n",
            "Эпоха 1700, Ошибка: 15923504.2594\n",
            "Эпоха 1800, Ошибка: 15923426.5548\n",
            "Эпоха 1900, Ошибка: 15923426.5406\n",
            "Эпоха 2000, Ошибка: 15923426.5232\n",
            "Эпоха 2100, Ошибка: 15923426.4982\n",
            "Эпоха 2200, Ошибка: 15923426.4530\n",
            "Эпоха 2300, Ошибка: 15923426.3071\n",
            "Эпоха 2400, Ошибка: 15923426.2597\n",
            "Эпоха 2500, Ошибка: 15923426.5562\n",
            "Эпоха 2600, Ошибка: 15923426.5520\n",
            "Эпоха 2700, Ошибка: 15923426.5479\n",
            "Эпоха 2800, Ошибка: 15923426.5439\n",
            "Эпоха 2900, Ошибка: 15923426.5398\n",
            "Эпоха 3000, Ошибка: 15923426.5353\n",
            "Эпоха 3100, Ошибка: 15923426.5304\n",
            "Эпоха 3200, Ошибка: 15923426.5243\n",
            "Эпоха 3300, Ошибка: 15923426.5155\n",
            "Эпоха 3400, Ошибка: 15923426.4989\n",
            "Эпоха 3500, Ошибка: 15923426.4376\n",
            "Эпоха 3600, Ошибка: 15923426.5320\n",
            "Эпоха 3700, Ошибка: 15923426.5301\n",
            "Эпоха 3800, Ошибка: 15923426.5283\n",
            "Эпоха 3900, Ошибка: 15923426.5265\n",
            "Эпоха 4000, Ошибка: 15923426.5249\n",
            "Эпоха 4100, Ошибка: 15923426.5233\n",
            "Эпоха 4200, Ошибка: 15923426.5217\n",
            "Эпоха 4300, Ошибка: 15923426.5203\n",
            "Эпоха 4400, Ошибка: 15923426.5189\n",
            "Эпоха 4500, Ошибка: 15923426.5175\n",
            "Эпоха 4600, Ошибка: 15923426.5162\n",
            "Эпоха 4700, Ошибка: 15923426.5149\n",
            "Эпоха 4800, Ошибка: 15923426.5137\n",
            "Эпоха 4900, Ошибка: 15923426.5126\n",
            "MLPRegressor:\n",
            "MAE: 3040.51\n",
            "MSE: 15897462.64\n",
            "RMSE: 3987.16\n",
            "R2: -0.0002\n"
          ]
        }
      ],
      "source": [
        "mlp_model = MLPRegressor(hidden_layer_sizes=(100, ), learning_rate=0.05, n_iter=5000)\n",
        "mlp_model.fit(X_train, y_train)\n",
        "y_pred_mlp = mlp_model.predict(X_test)\n",
        "print_metrics(y_test, y_pred_mlp, \"MLPRegressor\")"
      ]
    },
    {
      "cell_type": "markdown",
      "id": "04926fe2",
      "metadata": {},
      "source": [
        "Думаю, здесь, как минимум, не хватает улучшенной инициализации параметров, как и стабилизации сигмоиды (?)... плюс подбор параметров.. ибо градиенты явно залипли"
      ]
    },
    {
      "cell_type": "markdown",
      "id": "2135a75f",
      "metadata": {},
      "source": [
        "Проверим способность к сходимости в целом.."
      ]
    },
    {
      "cell_type": "code",
      "execution_count": 59,
      "id": "b416b74d",
      "metadata": {},
      "outputs": [
        {
          "name": "stdout",
          "output_type": "stream",
          "text": [
            "Эпоха 0, Ошибка: 5.6163\n",
            "Эпоха 100, Ошибка: 5.3285\n",
            "Эпоха 200, Ошибка: 3.7186\n",
            "Эпоха 300, Ошибка: 1.0032\n",
            "Эпоха 400, Ошибка: 0.1852\n",
            "Эпоха 500, Ошибка: 0.1055\n",
            "Эпоха 600, Ошибка: 0.0963\n",
            "Эпоха 700, Ошибка: 0.0917\n",
            "Эпоха 800, Ошибка: 0.0875\n",
            "Эпоха 900, Ошибка: 0.0837\n",
            "Эпоха 1000, Ошибка: 0.0802\n",
            "Эпоха 1100, Ошибка: 0.0769\n",
            "Эпоха 1200, Ошибка: 0.0738\n",
            "Эпоха 1300, Ошибка: 0.0710\n",
            "Эпоха 1400, Ошибка: 0.0684\n",
            "Эпоха 1500, Ошибка: 0.0659\n",
            "Эпоха 1600, Ошибка: 0.0636\n",
            "Эпоха 1700, Ошибка: 0.0615\n",
            "Эпоха 1800, Ошибка: 0.0595\n",
            "Эпоха 1900, Ошибка: 0.0577\n",
            "Ошибка в начале: 5.616255980102455\n",
            "Ошибка в конце: 0.05595672228243073\n",
            "R2: 0.9899920976477908\n"
          ]
        }
      ],
      "source": [
        "X = np.random.randn(600, 3)\n",
        "\n",
        "# y = 2 * x1 - x2 + 0.5 * x3 + шум\n",
        "noise = 0.1 * np.random.randn(600)\n",
        "y = 2 * X[:, 0] - X[:, 1] + 0.5 * X[:, 2] + noise\n",
        "\n",
        "mlp = MLPRegressor(hidden_layer_sizes=(16,), learning_rate=0.01, n_iter=2000)\n",
        "mlp.fit(X, y)\n",
        "\n",
        "print(\"Ошибка в начале:\", mlp.loss_history[0])\n",
        "print(\"Ошибка в конце:\", mlp.loss_history[-1])\n",
        "\n",
        "y_pred = mlp.predict(X)\n",
        "\n",
        "mse = np.mean((y_pred - y)**2)\n",
        "var_y = np.var(y)\n",
        "r2 = 1 - mse / var_y\n",
        "\n",
        "print(\"R2:\", r2)\n"
      ]
    },
    {
      "cell_type": "code",
      "execution_count": null,
      "id": "78ae0971",
      "metadata": {},
      "outputs": [],
      "source": []
    }
  ],
  "metadata": {
    "colab": {
      "provenance": []
    },
    "kernelspec": {
      "display_name": ".venv",
      "language": "python",
      "name": "python3"
    },
    "language_info": {
      "codemirror_mode": {
        "name": "ipython",
        "version": 3
      },
      "file_extension": ".py",
      "mimetype": "text/x-python",
      "name": "python",
      "nbconvert_exporter": "python",
      "pygments_lexer": "ipython3",
      "version": "3.13.0"
    }
  },
  "nbformat": 4,
  "nbformat_minor": 5
}
